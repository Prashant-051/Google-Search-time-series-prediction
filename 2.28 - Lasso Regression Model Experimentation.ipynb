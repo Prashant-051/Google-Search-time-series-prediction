{
 "cells": [
  {
   "cell_type": "code",
   "execution_count": 3,
   "metadata": {},
   "outputs": [],
   "source": [
    "import pandas as pd\n",
    "from sklearn.model_selection import train_test_split\n",
    "from sklearn.linear_model import LassoLarsCV\n",
    "import matplotlib.pyplot as pyplot\n",
    "import warnings\n",
    "from sklearn.metrics import mean_squared_error\n",
    "warnings.filterwarnings('ignore')"
   ]
  },
  {
   "cell_type": "code",
   "execution_count": 42,
   "metadata": {},
   "outputs": [],
   "source": [
    "alldata = pd.read_csv(\"google_adspend_differenced_lagged_fordatarobot.csv\")"
   ]
  },
  {
   "cell_type": "code",
   "execution_count": 43,
   "metadata": {},
   "outputs": [],
   "source": [
    "alldata.set_index(alldata['FIXED TIME'], inplace=True)"
   ]
  },
  {
   "cell_type": "code",
   "execution_count": 44,
   "metadata": {},
   "outputs": [
    {
     "data": {
      "text/plain": [
       "['FIXED TIME',\n",
       " 'CABLE TV_diff',\n",
       " 'CABLE TV_diff_lag1',\n",
       " 'CABLE TV_diff_lag1_lag1',\n",
       " 'CABLE TV_diff_lag1_lag2',\n",
       " 'CABLE TV_diff_lag1_lag3',\n",
       " 'CABLE TV_diff_lag2',\n",
       " 'CABLE TV_diff_lag2_lag1',\n",
       " 'CABLE TV_diff_lag2_lag2',\n",
       " 'CABLE TV_diff_lag2_lag3',\n",
       " 'CABLE TV_diff_lag3',\n",
       " 'MAGAZINES_diff',\n",
       " 'MAGAZINES_diff_lag1',\n",
       " 'MAGAZINES_diff_lag1_lag1',\n",
       " 'MAGAZINES_diff_lag1_lag2',\n",
       " 'MAGAZINES_diff_lag1_lag3',\n",
       " 'MAGAZINES_diff_lag2',\n",
       " 'MAGAZINES_diff_lag2_lag1',\n",
       " 'MAGAZINES_diff_lag2_lag2',\n",
       " 'MAGAZINES_diff_lag2_lag3',\n",
       " 'MAGAZINES_diff_lag3',\n",
       " 'NAT SPOT RADIO_diff',\n",
       " 'NAT SPOT RADIO_diff_lag1',\n",
       " 'NAT SPOT RADIO_diff_lag1_lag1',\n",
       " 'NAT SPOT RADIO_diff_lag1_lag2',\n",
       " 'NAT SPOT RADIO_diff_lag1_lag3',\n",
       " 'NAT SPOT RADIO_diff_lag2',\n",
       " 'NAT SPOT RADIO_diff_lag2_lag1',\n",
       " 'NAT SPOT RADIO_diff_lag2_lag2',\n",
       " 'NAT SPOT RADIO_diff_lag2_lag3',\n",
       " 'NAT SPOT RADIO_diff_lag3',\n",
       " 'NATL NEWSP_diff',\n",
       " 'NATL NEWSP_diff_lag1',\n",
       " 'NATL NEWSP_diff_lag1_lag1',\n",
       " 'NATL NEWSP_diff_lag1_lag2',\n",
       " 'NATL NEWSP_diff_lag1_lag3',\n",
       " 'NATL NEWSP_diff_lag2',\n",
       " 'NATL NEWSP_diff_lag2_lag1',\n",
       " 'NATL NEWSP_diff_lag2_lag2',\n",
       " 'NATL NEWSP_diff_lag2_lag3',\n",
       " 'NATL NEWSP_diff_lag3',\n",
       " 'NETWORK RADIO_diff',\n",
       " 'NETWORK RADIO_diff_lag1',\n",
       " 'NETWORK RADIO_diff_lag1_lag1',\n",
       " 'NETWORK RADIO_diff_lag1_lag2',\n",
       " 'NETWORK RADIO_diff_lag1_lag3',\n",
       " 'NETWORK RADIO_diff_lag2',\n",
       " 'NETWORK RADIO_diff_lag2_lag1',\n",
       " 'NETWORK RADIO_diff_lag2_lag2',\n",
       " 'NETWORK RADIO_diff_lag2_lag3',\n",
       " 'NETWORK RADIO_diff_lag3',\n",
       " 'NETWORK TV_diff',\n",
       " 'NETWORK TV_diff_lag1',\n",
       " 'NETWORK TV_diff_lag1_lag1',\n",
       " 'NETWORK TV_diff_lag1_lag2',\n",
       " 'NETWORK TV_diff_lag1_lag3',\n",
       " 'NETWORK TV_diff_lag2',\n",
       " 'NETWORK TV_diff_lag2_lag1',\n",
       " 'NETWORK TV_diff_lag2_lag2',\n",
       " 'NETWORK TV_diff_lag2_lag3',\n",
       " 'NETWORK TV_diff_lag3',\n",
       " 'NEWSPAPER_diff',\n",
       " 'NEWSPAPER_diff_lag1',\n",
       " 'NEWSPAPER_diff_lag1_lag1',\n",
       " 'NEWSPAPER_diff_lag1_lag2',\n",
       " 'NEWSPAPER_diff_lag1_lag3',\n",
       " 'NEWSPAPER_diff_lag2',\n",
       " 'NEWSPAPER_diff_lag2_lag1',\n",
       " 'NEWSPAPER_diff_lag2_lag2',\n",
       " 'NEWSPAPER_diff_lag2_lag3',\n",
       " 'NEWSPAPER_diff_lag3',\n",
       " 'OUTDOOR_diff',\n",
       " 'OUTDOOR_diff_lag1',\n",
       " 'OUTDOOR_diff_lag1_lag1',\n",
       " 'OUTDOOR_diff_lag1_lag2',\n",
       " 'OUTDOOR_diff_lag1_lag3',\n",
       " 'OUTDOOR_diff_lag2',\n",
       " 'OUTDOOR_diff_lag2_lag1',\n",
       " 'OUTDOOR_diff_lag2_lag2',\n",
       " 'OUTDOOR_diff_lag2_lag3',\n",
       " 'OUTDOOR_diff_lag3',\n",
       " 'SPOT TV_diff',\n",
       " 'SPOT TV_diff_lag1',\n",
       " 'SPOT TV_diff_lag1_lag1',\n",
       " 'SPOT TV_diff_lag1_lag2',\n",
       " 'SPOT TV_diff_lag1_lag3',\n",
       " 'SPOT TV_diff_lag2',\n",
       " 'SPOT TV_diff_lag2_lag1',\n",
       " 'SPOT TV_diff_lag2_lag2',\n",
       " 'SPOT TV_diff_lag2_lag3',\n",
       " 'SPOT TV_diff_lag3',\n",
       " 'SYNDICATION_diff',\n",
       " 'SYNDICATION_diff_lag1',\n",
       " 'SYNDICATION_diff_lag1_lag1',\n",
       " 'SYNDICATION_diff_lag1_lag2',\n",
       " 'SYNDICATION_diff_lag1_lag3',\n",
       " 'SYNDICATION_diff_lag2',\n",
       " 'SYNDICATION_diff_lag2_lag1',\n",
       " 'SYNDICATION_diff_lag2_lag2',\n",
       " 'SYNDICATION_diff_lag2_lag3',\n",
       " 'SYNDICATION_diff_lag3',\n",
       " 'TOTAL_diff',\n",
       " 'TOTAL_diff_lag1',\n",
       " 'TOTAL_diff_lag1_lag1',\n",
       " 'TOTAL_diff_lag1_lag2',\n",
       " 'TOTAL_diff_lag1_lag3',\n",
       " 'TOTAL_diff_lag2',\n",
       " 'TOTAL_diff_lag2_lag1',\n",
       " 'TOTAL_diff_lag2_lag2',\n",
       " 'TOTAL_diff_lag2_lag3',\n",
       " 'TOTAL_diff_lag3',\n",
       " 'value_diff']"
      ]
     },
     "execution_count": 44,
     "metadata": {},
     "output_type": "execute_result"
    }
   ],
   "source": [
    "list(alldata)"
   ]
  },
  {
   "cell_type": "code",
   "execution_count": 45,
   "metadata": {},
   "outputs": [],
   "source": [
    "alldata = alldata.drop(columns=['FIXED TIME'])"
   ]
  },
  {
   "cell_type": "code",
   "execution_count": 46,
   "metadata": {},
   "outputs": [],
   "source": [
    "alldata = alldata.iloc[6:]"
   ]
  },
  {
   "cell_type": "code",
   "execution_count": 47,
   "metadata": {},
   "outputs": [],
   "source": [
    "alldata = alldata.iloc[:-3]"
   ]
  },
  {
   "cell_type": "code",
   "execution_count": 41,
   "metadata": {},
   "outputs": [
    {
     "data": {
      "text/html": [
       "<div>\n",
       "<style scoped>\n",
       "    .dataframe tbody tr th:only-of-type {\n",
       "        vertical-align: middle;\n",
       "    }\n",
       "\n",
       "    .dataframe tbody tr th {\n",
       "        vertical-align: top;\n",
       "    }\n",
       "\n",
       "    .dataframe thead th {\n",
       "        text-align: right;\n",
       "    }\n",
       "</style>\n",
       "<table border=\"1\" class=\"dataframe\">\n",
       "  <thead>\n",
       "    <tr style=\"text-align: right;\">\n",
       "      <th></th>\n",
       "      <th>FIXED TIME</th>\n",
       "      <th>CABLE TV_diff</th>\n",
       "      <th>CABLE TV_diff_lag1</th>\n",
       "      <th>CABLE TV_diff_lag1_lag1</th>\n",
       "      <th>CABLE TV_diff_lag1_lag2</th>\n",
       "      <th>CABLE TV_diff_lag1_lag3</th>\n",
       "      <th>CABLE TV_diff_lag2</th>\n",
       "      <th>CABLE TV_diff_lag2_lag1</th>\n",
       "      <th>CABLE TV_diff_lag2_lag2</th>\n",
       "      <th>CABLE TV_diff_lag2_lag3</th>\n",
       "      <th>...</th>\n",
       "      <th>TOTAL_diff_lag1</th>\n",
       "      <th>TOTAL_diff_lag1_lag1</th>\n",
       "      <th>TOTAL_diff_lag1_lag2</th>\n",
       "      <th>TOTAL_diff_lag1_lag3</th>\n",
       "      <th>TOTAL_diff_lag2</th>\n",
       "      <th>TOTAL_diff_lag2_lag1</th>\n",
       "      <th>TOTAL_diff_lag2_lag2</th>\n",
       "      <th>TOTAL_diff_lag2_lag3</th>\n",
       "      <th>TOTAL_diff_lag3</th>\n",
       "      <th>value_diff</th>\n",
       "    </tr>\n",
       "    <tr>\n",
       "      <th>FIXED TIME</th>\n",
       "      <th></th>\n",
       "      <th></th>\n",
       "      <th></th>\n",
       "      <th></th>\n",
       "      <th></th>\n",
       "      <th></th>\n",
       "      <th></th>\n",
       "      <th></th>\n",
       "      <th></th>\n",
       "      <th></th>\n",
       "      <th></th>\n",
       "      <th></th>\n",
       "      <th></th>\n",
       "      <th></th>\n",
       "      <th></th>\n",
       "      <th></th>\n",
       "      <th></th>\n",
       "      <th></th>\n",
       "      <th></th>\n",
       "      <th></th>\n",
       "      <th></th>\n",
       "    </tr>\n",
       "  </thead>\n",
       "  <tbody>\n",
       "    <tr>\n",
       "      <th>2018-09-03</th>\n",
       "      <td>2018-09-03</td>\n",
       "      <td>276.6</td>\n",
       "      <td>-151.4</td>\n",
       "      <td>920.3</td>\n",
       "      <td>5.6</td>\n",
       "      <td>-936.7</td>\n",
       "      <td>920.3</td>\n",
       "      <td>5.6</td>\n",
       "      <td>-936.7</td>\n",
       "      <td>911.4</td>\n",
       "      <td>...</td>\n",
       "      <td>1975.4</td>\n",
       "      <td>934.0</td>\n",
       "      <td>27.7</td>\n",
       "      <td>-2031.0</td>\n",
       "      <td>934.0</td>\n",
       "      <td>27.7</td>\n",
       "      <td>-2031.0</td>\n",
       "      <td>1250.4</td>\n",
       "      <td>27.7</td>\n",
       "      <td>-339.302444</td>\n",
       "    </tr>\n",
       "    <tr>\n",
       "      <th>2018-09-10</th>\n",
       "      <td>2018-09-10</td>\n",
       "      <td>-623.1</td>\n",
       "      <td>276.6</td>\n",
       "      <td>-151.4</td>\n",
       "      <td>920.3</td>\n",
       "      <td>5.6</td>\n",
       "      <td>-151.4</td>\n",
       "      <td>920.3</td>\n",
       "      <td>5.6</td>\n",
       "      <td>-936.7</td>\n",
       "      <td>...</td>\n",
       "      <td>45.2</td>\n",
       "      <td>1975.4</td>\n",
       "      <td>934.0</td>\n",
       "      <td>27.7</td>\n",
       "      <td>1975.4</td>\n",
       "      <td>934.0</td>\n",
       "      <td>27.7</td>\n",
       "      <td>-2031.0</td>\n",
       "      <td>934.0</td>\n",
       "      <td>-2095.423799</td>\n",
       "    </tr>\n",
       "    <tr>\n",
       "      <th>2018-09-17</th>\n",
       "      <td>2018-09-17</td>\n",
       "      <td>-6.6</td>\n",
       "      <td>-623.1</td>\n",
       "      <td>276.6</td>\n",
       "      <td>-151.4</td>\n",
       "      <td>920.3</td>\n",
       "      <td>276.6</td>\n",
       "      <td>-151.4</td>\n",
       "      <td>920.3</td>\n",
       "      <td>5.6</td>\n",
       "      <td>...</td>\n",
       "      <td>-139.0</td>\n",
       "      <td>45.2</td>\n",
       "      <td>1975.4</td>\n",
       "      <td>934.0</td>\n",
       "      <td>45.2</td>\n",
       "      <td>1975.4</td>\n",
       "      <td>934.0</td>\n",
       "      <td>27.7</td>\n",
       "      <td>1975.4</td>\n",
       "      <td>-230.226659</td>\n",
       "    </tr>\n",
       "    <tr>\n",
       "      <th>2018-09-24</th>\n",
       "      <td>2018-09-24</td>\n",
       "      <td>-1205.3</td>\n",
       "      <td>-6.6</td>\n",
       "      <td>-623.1</td>\n",
       "      <td>276.6</td>\n",
       "      <td>-151.4</td>\n",
       "      <td>-623.1</td>\n",
       "      <td>276.6</td>\n",
       "      <td>-151.4</td>\n",
       "      <td>920.3</td>\n",
       "      <td>...</td>\n",
       "      <td>-641.9</td>\n",
       "      <td>-139.0</td>\n",
       "      <td>45.2</td>\n",
       "      <td>1975.4</td>\n",
       "      <td>-139.0</td>\n",
       "      <td>45.2</td>\n",
       "      <td>1975.4</td>\n",
       "      <td>934.0</td>\n",
       "      <td>45.2</td>\n",
       "      <td>-378.507035</td>\n",
       "    </tr>\n",
       "    <tr>\n",
       "      <th>2018-10-01</th>\n",
       "      <td>2018-10-01</td>\n",
       "      <td>1996.3</td>\n",
       "      <td>-1205.3</td>\n",
       "      <td>-6.6</td>\n",
       "      <td>-623.1</td>\n",
       "      <td>276.6</td>\n",
       "      <td>-6.6</td>\n",
       "      <td>-623.1</td>\n",
       "      <td>276.6</td>\n",
       "      <td>-151.4</td>\n",
       "      <td>...</td>\n",
       "      <td>-973.3</td>\n",
       "      <td>-641.9</td>\n",
       "      <td>-139.0</td>\n",
       "      <td>45.2</td>\n",
       "      <td>-641.9</td>\n",
       "      <td>-139.0</td>\n",
       "      <td>45.2</td>\n",
       "      <td>1975.4</td>\n",
       "      <td>-139.0</td>\n",
       "      <td>-767.389362</td>\n",
       "    </tr>\n",
       "  </tbody>\n",
       "</table>\n",
       "<p>5 rows × 112 columns</p>\n",
       "</div>"
      ],
      "text/plain": [
       "            FIXED TIME  CABLE TV_diff  CABLE TV_diff_lag1  \\\n",
       "FIXED TIME                                                  \n",
       "2018-09-03  2018-09-03          276.6              -151.4   \n",
       "2018-09-10  2018-09-10         -623.1               276.6   \n",
       "2018-09-17  2018-09-17           -6.6              -623.1   \n",
       "2018-09-24  2018-09-24        -1205.3                -6.6   \n",
       "2018-10-01  2018-10-01         1996.3             -1205.3   \n",
       "\n",
       "            CABLE TV_diff_lag1_lag1  CABLE TV_diff_lag1_lag2  \\\n",
       "FIXED TIME                                                     \n",
       "2018-09-03                    920.3                      5.6   \n",
       "2018-09-10                   -151.4                    920.3   \n",
       "2018-09-17                    276.6                   -151.4   \n",
       "2018-09-24                   -623.1                    276.6   \n",
       "2018-10-01                     -6.6                   -623.1   \n",
       "\n",
       "            CABLE TV_diff_lag1_lag3  CABLE TV_diff_lag2  \\\n",
       "FIXED TIME                                                \n",
       "2018-09-03                   -936.7               920.3   \n",
       "2018-09-10                      5.6              -151.4   \n",
       "2018-09-17                    920.3               276.6   \n",
       "2018-09-24                   -151.4              -623.1   \n",
       "2018-10-01                    276.6                -6.6   \n",
       "\n",
       "            CABLE TV_diff_lag2_lag1  CABLE TV_diff_lag2_lag2  \\\n",
       "FIXED TIME                                                     \n",
       "2018-09-03                      5.6                   -936.7   \n",
       "2018-09-10                    920.3                      5.6   \n",
       "2018-09-17                   -151.4                    920.3   \n",
       "2018-09-24                    276.6                   -151.4   \n",
       "2018-10-01                   -623.1                    276.6   \n",
       "\n",
       "            CABLE TV_diff_lag2_lag3  ...  TOTAL_diff_lag1  \\\n",
       "FIXED TIME                           ...                    \n",
       "2018-09-03                    911.4  ...           1975.4   \n",
       "2018-09-10                   -936.7  ...             45.2   \n",
       "2018-09-17                      5.6  ...           -139.0   \n",
       "2018-09-24                    920.3  ...           -641.9   \n",
       "2018-10-01                   -151.4  ...           -973.3   \n",
       "\n",
       "            TOTAL_diff_lag1_lag1  TOTAL_diff_lag1_lag2  TOTAL_diff_lag1_lag3  \\\n",
       "FIXED TIME                                                                     \n",
       "2018-09-03                 934.0                  27.7               -2031.0   \n",
       "2018-09-10                1975.4                 934.0                  27.7   \n",
       "2018-09-17                  45.2                1975.4                 934.0   \n",
       "2018-09-24                -139.0                  45.2                1975.4   \n",
       "2018-10-01                -641.9                -139.0                  45.2   \n",
       "\n",
       "            TOTAL_diff_lag2  TOTAL_diff_lag2_lag1  TOTAL_diff_lag2_lag2  \\\n",
       "FIXED TIME                                                                \n",
       "2018-09-03            934.0                  27.7               -2031.0   \n",
       "2018-09-10           1975.4                 934.0                  27.7   \n",
       "2018-09-17             45.2                1975.4                 934.0   \n",
       "2018-09-24           -139.0                  45.2                1975.4   \n",
       "2018-10-01           -641.9                -139.0                  45.2   \n",
       "\n",
       "            TOTAL_diff_lag2_lag3  TOTAL_diff_lag3   value_diff  \n",
       "FIXED TIME                                                      \n",
       "2018-09-03                1250.4             27.7  -339.302444  \n",
       "2018-09-10               -2031.0            934.0 -2095.423799  \n",
       "2018-09-17                  27.7           1975.4  -230.226659  \n",
       "2018-09-24                 934.0             45.2  -378.507035  \n",
       "2018-10-01                1975.4           -139.0  -767.389362  \n",
       "\n",
       "[5 rows x 112 columns]"
      ]
     },
     "execution_count": 41,
     "metadata": {},
     "output_type": "execute_result"
    }
   ],
   "source": [
    "alldata.tail()"
   ]
  },
  {
   "cell_type": "code",
   "execution_count": 48,
   "metadata": {},
   "outputs": [],
   "source": [
    "listofallpredictors = []\n",
    "for avar in list(alldata):\n",
    "    if \"value\" not in avar:\n",
    "        listofallpredictors.append(avar)"
   ]
  },
  {
   "cell_type": "code",
   "execution_count": 49,
   "metadata": {},
   "outputs": [],
   "source": [
    "predictors = alldata[listofallpredictors]"
   ]
  },
  {
   "cell_type": "code",
   "execution_count": 50,
   "metadata": {},
   "outputs": [],
   "source": [
    "target = alldata['value_diff']"
   ]
  },
  {
   "cell_type": "code",
   "execution_count": 51,
   "metadata": {},
   "outputs": [],
   "source": [
    "pred_train, pred_test, tar_train, tar_test = train_test_split(predictors, target, test_size = .3, random_state=123)"
   ]
  },
  {
   "cell_type": "code",
   "execution_count": 52,
   "metadata": {},
   "outputs": [],
   "source": [
    "model = LassoLarsCV(cv=10, precompute=False)"
   ]
  },
  {
   "cell_type": "code",
   "execution_count": 53,
   "metadata": {},
   "outputs": [],
   "source": [
    "model = model.fit(pred_train.values, tar_train.values)"
   ]
  },
  {
   "cell_type": "code",
   "execution_count": 54,
   "metadata": {},
   "outputs": [],
   "source": [
    "predictors_model = pd.DataFrame(listofallpredictors)\n",
    "predictors_model.columns = ['label']\n",
    "predictors_model['coeff'] = model.coef_"
   ]
  },
  {
   "cell_type": "code",
   "execution_count": 55,
   "metadata": {},
   "outputs": [
    {
     "name": "stdout",
     "output_type": "stream",
     "text": [
      "['CABLE TV_diff_lag2' 0.24278526400989256]\n",
      "['MAGAZINES_diff_lag1_lag2' 0.017558354013461723]\n",
      "['NAT SPOT RADIO_diff_lag2_lag3' 2.0253799132036323]\n",
      "['NATL NEWSP_diff' 41.855126343750754]\n",
      "['NATL NEWSP_diff_lag1' 3.072810749466458]\n",
      "['NATL NEWSP_diff_lag2_lag3' 0.6587448778283285]\n",
      "['NETWORK RADIO_diff_lag2_lag3' 1.0077416948007027]\n",
      "['NETWORK TV_diff' 0.22714365691812094]\n",
      "['NETWORK TV_diff_lag1' 0.14422179558802786]\n",
      "['NEWSPAPER_diff' 0.6955786076050128]\n",
      "['NEWSPAPER_diff_lag1' 0.7009100290303206]\n",
      "['OUTDOOR_diff_lag1_lag3' 5.0176886898383195]\n",
      "['SPOT TV_diff_lag1_lag2' 0.4738793577762425]\n",
      "['SYNDICATION_diff_lag2_lag3' 0.10452098442586648]\n",
      "['TOTAL_diff' 0.11432510308891648]\n"
     ]
    }
   ],
   "source": [
    "for index, row in predictors_model.iterrows():\n",
    "    if row['coeff'] > 0:\n",
    "        print(row.values)"
   ]
  },
  {
   "cell_type": "code",
   "execution_count": 56,
   "metadata": {},
   "outputs": [
    {
     "name": "stdout",
     "output_type": "stream",
     "text": [
      "training data MSE\n",
      "1588874.256561738\n"
     ]
    }
   ],
   "source": [
    "train_error = mean_squared_error(tar_train, model.predict(pred_train))\n",
    "print('training data MSE')\n",
    "print(train_error)"
   ]
  },
  {
   "cell_type": "code",
   "execution_count": 57,
   "metadata": {},
   "outputs": [
    {
     "name": "stdout",
     "output_type": "stream",
     "text": [
      "test data MSE\n",
      "1903038.9977462753\n"
     ]
    }
   ],
   "source": [
    "test_error = mean_squared_error(tar_test, model.predict(pred_test))\n",
    "print('test data MSE')\n",
    "print(test_error)"
   ]
  },
  {
   "cell_type": "code",
   "execution_count": 59,
   "metadata": {},
   "outputs": [
    {
     "name": "stdout",
     "output_type": "stream",
     "text": [
      "training data r-squared\n",
      "0.44843826121527564\n"
     ]
    }
   ],
   "source": [
    "# return r squared for training model\n",
    "rsquared_train = model.score(pred_train, tar_train)\n",
    "print('training data r-squared')\n",
    "print(rsquared_train)"
   ]
  },
  {
   "cell_type": "code",
   "execution_count": 61,
   "metadata": {},
   "outputs": [
    {
     "name": "stdout",
     "output_type": "stream",
     "text": [
      "test data r-squared\n",
      "0.3303048210814836\n"
     ]
    }
   ],
   "source": [
    "# return r squared for test set\n",
    "rsquared_test = model.score(pred_test, tar_test)\n",
    "print('test data r-squared')\n",
    "print(rsquared_test)"
   ]
  },
  {
   "cell_type": "code",
   "execution_count": null,
   "metadata": {},
   "outputs": [],
   "source": []
  }
 ],
 "metadata": {
  "kernelspec": {
   "display_name": "Python 3",
   "language": "python",
   "name": "python3"
  },
  "language_info": {
   "codemirror_mode": {
    "name": "ipython",
    "version": 3
   },
   "file_extension": ".py",
   "mimetype": "text/x-python",
   "name": "python",
   "nbconvert_exporter": "python",
   "pygments_lexer": "ipython3",
   "version": "3.6.7"
  }
 },
 "nbformat": 4,
 "nbformat_minor": 2
}
