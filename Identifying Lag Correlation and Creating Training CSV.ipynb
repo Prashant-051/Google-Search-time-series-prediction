{
 "cells": [
  {
   "cell_type": "code",
   "execution_count": 10,
   "metadata": {},
   "outputs": [],
   "source": [
    "import pandas as pd\n",
    "import numpy as np\n",
    "from statsmodels.tsa import stattools\n",
    "import seaborn as sns\n",
    "import matplotlib.pyplot as pyplot\n",
    "from statistics import mode"
   ]
  },
  {
   "cell_type": "code",
   "execution_count": 12,
   "metadata": {},
   "outputs": [],
   "source": [
    "adspend_trends = pd.read_csv('adspend.googletrends.weekly.csv', parse_dates=['FIXED TIME'])"
   ]
  },
  {
   "cell_type": "code",
   "execution_count": 13,
   "metadata": {},
   "outputs": [],
   "source": [
    "adspend_trends.set_index('FIXED TIME', inplace=True)"
   ]
  },
  {
   "cell_type": "code",
   "execution_count": 14,
   "metadata": {},
   "outputs": [
    {
     "data": {
      "text/plain": [
       "['CABLE TV',\n",
       " 'MAGAZINES',\n",
       " 'NAT SPOT RADIO',\n",
       " 'NATL NEWSP',\n",
       " 'NETWORK RADIO',\n",
       " 'NETWORK TV',\n",
       " 'NEWSPAPER',\n",
       " 'OUTDOOR',\n",
       " 'SPOT TV',\n",
       " 'SYNDICATION',\n",
       " 'TOTAL',\n",
       " 'Unnamed: 0',\n",
       " 'value',\n",
       " 'onediffvalue',\n",
       " 'TOTALdiff',\n",
       " 'valuediff']"
      ]
     },
     "execution_count": 14,
     "metadata": {},
     "output_type": "execute_result"
    }
   ],
   "source": [
    "list(adspend_trends)"
   ]
  },
  {
   "cell_type": "code",
   "execution_count": 15,
   "metadata": {},
   "outputs": [],
   "source": [
    "adspend_trends = adspend_trends.drop(columns=['onediffvalue', 'Unnamed: 0', 'TOTALdiff', 'valuediff'])"
   ]
  },
  {
   "cell_type": "code",
   "execution_count": 16,
   "metadata": {},
   "outputs": [
    {
     "data": {
      "text/plain": [
       "['CABLE TV',\n",
       " 'MAGAZINES',\n",
       " 'NAT SPOT RADIO',\n",
       " 'NATL NEWSP',\n",
       " 'NETWORK RADIO',\n",
       " 'NETWORK TV',\n",
       " 'NEWSPAPER',\n",
       " 'OUTDOOR',\n",
       " 'SPOT TV',\n",
       " 'SYNDICATION',\n",
       " 'TOTAL',\n",
       " 'value']"
      ]
     },
     "execution_count": 16,
     "metadata": {},
     "output_type": "execute_result"
    }
   ],
   "source": [
    "list(adspend_trends)"
   ]
  },
  {
   "cell_type": "code",
   "execution_count": 19,
   "metadata": {},
   "outputs": [
    {
     "name": "stdout",
     "output_type": "stream",
     "text": [
      "3.3791311853282996e-07\n",
      "0.0038259672408279596\n",
      "0.0002320021957422997\n",
      "8.791905734406244e-27\n",
      "2.9987409119721522e-05\n",
      "1.8113876761771767e-05\n",
      "2.457816070789469e-14\n",
      "0.013739831125602857\n",
      "2.24411160183475e-14\n",
      "0.2594174143129171\n",
      "0.00011707969794838592\n",
      "0.0016985171012903423\n"
     ]
    }
   ],
   "source": [
    "for acolumn in list(adspend_trends):\n",
    "    adf_results = stattools.adfuller(adspend_trends[acolumn])\n",
    "    print(adf_results[1])"
   ]
  },
  {
   "cell_type": "code",
   "execution_count": 20,
   "metadata": {},
   "outputs": [],
   "source": [
    "adspend_trends_diff = pd.DataFrame()"
   ]
  },
  {
   "cell_type": "code",
   "execution_count": 21,
   "metadata": {},
   "outputs": [],
   "source": [
    "for acolumn in list(adspend_trends):\n",
    "    columnname = \"%s_diff\" % (acolumn)\n",
    "    adspend_trends_diff[columnname] = adspend_trends[acolumn].diff(1)"
   ]
  },
  {
   "cell_type": "code",
   "execution_count": 22,
   "metadata": {},
   "outputs": [
    {
     "name": "stdout",
     "output_type": "stream",
     "text": [
      "0.0016985171012903423\n",
      "0.0016985171012903423\n",
      "0.0016985171012903423\n",
      "0.0016985171012903423\n",
      "0.0016985171012903423\n",
      "0.0016985171012903423\n",
      "0.0016985171012903423\n",
      "0.0016985171012903423\n",
      "0.0016985171012903423\n",
      "0.0016985171012903423\n",
      "0.0016985171012903423\n",
      "0.0016985171012903423\n"
     ]
    }
   ],
   "source": [
    "for acolumn in list(adspend_trends_diff):\n",
    "    ads_result =stattools.adfuller(adspend_trends_diff[acolumn].iloc[1:])\n",
    "    print(adf_results[1])"
   ]
  },
  {
   "cell_type": "code",
   "execution_count": 23,
   "metadata": {},
   "outputs": [
    {
     "name": "stdout",
     "output_type": "stream",
     "text": [
      "CABLE TV_diff 0.13284453319983444\n",
      "MAGAZINES_diff 0.1620289695316992\n",
      "NAT SPOT RADIO_diff 0.07501475307681177\n",
      "NATL NEWSP_diff 0.3068016163844794\n",
      "NETWORK RADIO_diff 0.1785736458419488\n",
      "NETWORK TV_diff 0.3792392754650202\n",
      "NEWSPAPER_diff 0.2959777224219251\n",
      "OUTDOOR_diff 0.09075283561417263\n",
      "SPOT TV_diff 0.02160087499522598\n",
      "SYNDICATION_diff 0.10086944988181933\n",
      "TOTAL_diff 0.3862127939866372\n"
     ]
    }
   ],
   "source": [
    "correlationlist = []\n",
    "for acolumn in list(adspend_trends_diff):\n",
    "    if \"value\" not in acolumn:\n",
    "        corr = adspend_trends_diff[acolumn].corr(adspend_trends_diff['value_diff'])\n",
    "        print(acolumn, corr)\n",
    "        correlationlist.append(corr)"
   ]
  },
  {
   "cell_type": "code",
   "execution_count": 24,
   "metadata": {},
   "outputs": [
    {
     "data": {
      "text/plain": [
       "0.3862127939866372"
      ]
     },
     "execution_count": 24,
     "metadata": {},
     "output_type": "execute_result"
    }
   ],
   "source": [
    "np.mean(corr)"
   ]
  },
  {
   "cell_type": "code",
   "execution_count": 26,
   "metadata": {},
   "outputs": [
    {
     "name": "stdout",
     "output_type": "stream",
     "text": [
      "CABLE TV 0.40323152694397413\n",
      "MAGAZINES 0.1695742160857613\n",
      "NAT SPOT RADIO 0.19298093645939246\n",
      "NATL NEWSP 0.12085697212319722\n",
      "NETWORK RADIO 0.5318166394516398\n",
      "NETWORK TV 0.1545903976498101\n",
      "NEWSPAPER 0.3030625012216185\n",
      "OUTDOOR 0.15354336294017645\n",
      "SPOT TV 0.019422270230899076\n",
      "SYNDICATION -0.11636134550607455\n",
      "TOTAL 0.4179330581521476\n"
     ]
    }
   ],
   "source": [
    "correlationlist = []\n",
    "for acolumn in list(adspend_trends):\n",
    "    if \"value\" not in acolumn:\n",
    "        corr = adspend_trends[acolumn].corr(adspend_trends['value'])\n",
    "        print(acolumn, corr)\n",
    "        correlationlist.append(corr)"
   ]
  },
  {
   "cell_type": "code",
   "execution_count": 27,
   "metadata": {},
   "outputs": [
    {
     "data": {
      "text/plain": [
       "0.21369550325023107"
      ]
     },
     "execution_count": 27,
     "metadata": {},
     "output_type": "execute_result"
    }
   ],
   "source": [
    "np.mean(correlationlist)"
   ]
  },
  {
   "cell_type": "code",
   "execution_count": 30,
   "metadata": {},
   "outputs": [
    {
     "data": {
      "text/plain": [
       "<matplotlib.axes._subplots.AxesSubplot at 0x7fed87335748>"
      ]
     },
     "execution_count": 30,
     "metadata": {},
     "output_type": "execute_result"
    },
    {
     "data": {
      "image/png": "[encoded data removed]",
      "text/plain": [
       "<Figure size 720x576 with 2 Axes>"
      ]
     },
     "metadata": {
      "needs_background": "light"
     },
     "output_type": "display_data"
    }
   ],
   "source": [
    "f, ax = pyplot.subplots(figsize=(10,8))\n",
    "corr = adspend_trends_diff.corr()\n",
    "sns.heatmap(corr,mask=np.zeros_like(corr,dtype=np.bool), cmap=sns.diverging_palette(220,10, as_cmap=True), \n",
    "           square=True, ax=ax)"
   ]
  },
  {
   "cell_type": "code",
   "execution_count": 37,
   "metadata": {},
   "outputs": [
    {
     "name": "stdout",
     "output_type": "stream",
     "text": [
      "CABLE TV_diff is significant at 2 weeks\n",
      "CABLE TV_diff is significant at 3 weeks\n",
      "CABLE TV_diff is significant at 4 weeks\n",
      "CABLE TV_diff is significant at 5 weeks\n",
      "CABLE TV_diff is significant at 6 weeks\n",
      "CABLE TV_diff is significant at 7 weeks\n",
      "CABLE TV_diff is significant at 8 weeks\n",
      "MAGAZINES_diff is significant at 3 weeks\n",
      "MAGAZINES_diff is significant at 4 weeks\n",
      "MAGAZINES_diff is significant at 5 weeks\n",
      "MAGAZINES_diff is significant at 6 weeks\n",
      "MAGAZINES_diff is significant at 7 weeks\n",
      "MAGAZINES_diff is significant at 8 weeks\n",
      "NETWORK RADIO_diff is significant at 1 weeks\n",
      "NETWORK RADIO_diff is significant at 2 weeks\n",
      "NETWORK RADIO_diff is significant at 3 weeks\n",
      "NETWORK RADIO_diff is significant at 4 weeks\n",
      "NETWORK RADIO_diff is significant at 5 weeks\n",
      "NETWORK RADIO_diff is significant at 6 weeks\n",
      "NETWORK RADIO_diff is significant at 7 weeks\n",
      "NETWORK RADIO_diff is significant at 8 weeks\n",
      "NETWORK TV_diff is significant at 1 weeks\n",
      "NETWORK TV_diff is significant at 2 weeks\n",
      "NETWORK TV_diff is significant at 3 weeks\n",
      "NETWORK TV_diff is significant at 4 weeks\n",
      "NETWORK TV_diff is significant at 5 weeks\n",
      "NETWORK TV_diff is significant at 6 weeks\n",
      "NETWORK TV_diff is significant at 7 weeks\n",
      "NETWORK TV_diff is significant at 8 weeks\n",
      "NEWSPAPER_diff is significant at 1 weeks\n",
      "NEWSPAPER_diff is significant at 2 weeks\n",
      "NEWSPAPER_diff is significant at 3 weeks\n",
      "SPOT TV_diff is significant at 3 weeks\n",
      "SPOT TV_diff is significant at 4 weeks\n",
      "TOTAL_diff is significant at 1 weeks\n",
      "TOTAL_diff is significant at 2 weeks\n",
      "TOTAL_diff is significant at 3 weeks\n",
      "TOTAL_diff is significant at 4 weeks\n",
      "TOTAL_diff is significant at 5 weeks\n",
      "TOTAL_diff is significant at 6 weeks\n",
      "TOTAL_diff is significant at 7 weeks\n",
      "TOTAL_diff is significant at 8 weeks\n"
     ]
    }
   ],
   "source": [
    "numofweeks = 8\n",
    "significantlags = []\n",
    "for acolumn in list(adspend_trends_diff):\n",
    "    if 'value' not in acolumn:\n",
    "        testframe = adspend_trends_diff[['value_diff', acolumn]]\n",
    "        testframe = testframe.iloc[1:]\n",
    "        results = stattools.grangercausalitytests(testframe, numofweeks, verbose=False)\n",
    "        for week in range(1,numofweeks+1):\n",
    "            if results[week][0]['params_ftest'][1] < .05:\n",
    "                print('%s is significant at %s weeks' % (acolumn, week))\n",
    "                significantlags.append(week)"
   ]
  },
  {
   "cell_type": "code",
   "execution_count": 38,
   "metadata": {},
   "outputs": [
    {
     "data": {
      "text/plain": [
       "3"
      ]
     },
     "execution_count": 38,
     "metadata": {},
     "output_type": "execute_result"
    }
   ],
   "source": [
    "mode(significantlags)"
   ]
  },
  {
   "cell_type": "code",
   "execution_count": 39,
   "metadata": {},
   "outputs": [],
   "source": [
    "modelingdataset = adspend_trends_diff"
   ]
  },
  {
   "cell_type": "code",
   "execution_count": 40,
   "metadata": {},
   "outputs": [
    {
     "data": {
      "text/html": [
       "<div>\n",
       "<style scoped>\n",
       "    .dataframe tbody tr th:only-of-type {\n",
       "        vertical-align: middle;\n",
       "    }\n",
       "\n",
       "    .dataframe tbody tr th {\n",
       "        vertical-align: top;\n",
       "    }\n",
       "\n",
       "    .dataframe thead th {\n",
       "        text-align: right;\n",
       "    }\n",
       "</style>\n",
       "<table border=\"1\" class=\"dataframe\">\n",
       "  <thead>\n",
       "    <tr style=\"text-align: right;\">\n",
       "      <th></th>\n",
       "      <th>CABLE TV_diff</th>\n",
       "      <th>MAGAZINES_diff</th>\n",
       "      <th>NAT SPOT RADIO_diff</th>\n",
       "      <th>NATL NEWSP_diff</th>\n",
       "      <th>NETWORK RADIO_diff</th>\n",
       "      <th>NETWORK TV_diff</th>\n",
       "      <th>NEWSPAPER_diff</th>\n",
       "      <th>OUTDOOR_diff</th>\n",
       "      <th>SPOT TV_diff</th>\n",
       "      <th>SYNDICATION_diff</th>\n",
       "      <th>TOTAL_diff</th>\n",
       "      <th>value_diff</th>\n",
       "    </tr>\n",
       "    <tr>\n",
       "      <th>FIXED TIME</th>\n",
       "      <th></th>\n",
       "      <th></th>\n",
       "      <th></th>\n",
       "      <th></th>\n",
       "      <th></th>\n",
       "      <th></th>\n",
       "      <th></th>\n",
       "      <th></th>\n",
       "      <th></th>\n",
       "      <th></th>\n",
       "      <th></th>\n",
       "      <th></th>\n",
       "    </tr>\n",
       "  </thead>\n",
       "  <tbody>\n",
       "    <tr>\n",
       "      <th>2018-09-03</th>\n",
       "      <td>276.6</td>\n",
       "      <td>-1118.3</td>\n",
       "      <td>-0.4</td>\n",
       "      <td>0.0</td>\n",
       "      <td>142.5</td>\n",
       "      <td>1015.8</td>\n",
       "      <td>-223.8</td>\n",
       "      <td>-45.5</td>\n",
       "      <td>-1.8</td>\n",
       "      <td>0.0</td>\n",
       "      <td>45.2</td>\n",
       "      <td>-339.302444</td>\n",
       "    </tr>\n",
       "    <tr>\n",
       "      <th>2018-09-10</th>\n",
       "      <td>-623.1</td>\n",
       "      <td>0.0</td>\n",
       "      <td>0.0</td>\n",
       "      <td>0.0</td>\n",
       "      <td>0.0</td>\n",
       "      <td>540.9</td>\n",
       "      <td>0.0</td>\n",
       "      <td>0.0</td>\n",
       "      <td>-56.7</td>\n",
       "      <td>0.0</td>\n",
       "      <td>-139.0</td>\n",
       "      <td>-2095.423799</td>\n",
       "    </tr>\n",
       "    <tr>\n",
       "      <th>2018-09-17</th>\n",
       "      <td>-6.6</td>\n",
       "      <td>0.0</td>\n",
       "      <td>0.0</td>\n",
       "      <td>0.0</td>\n",
       "      <td>0.0</td>\n",
       "      <td>-635.8</td>\n",
       "      <td>0.0</td>\n",
       "      <td>0.0</td>\n",
       "      <td>0.5</td>\n",
       "      <td>0.0</td>\n",
       "      <td>-641.9</td>\n",
       "      <td>-230.226659</td>\n",
       "    </tr>\n",
       "    <tr>\n",
       "      <th>2018-09-24</th>\n",
       "      <td>-1205.3</td>\n",
       "      <td>0.0</td>\n",
       "      <td>0.0</td>\n",
       "      <td>0.0</td>\n",
       "      <td>0.0</td>\n",
       "      <td>233.2</td>\n",
       "      <td>0.0</td>\n",
       "      <td>0.0</td>\n",
       "      <td>-1.2</td>\n",
       "      <td>0.0</td>\n",
       "      <td>-973.3</td>\n",
       "      <td>-378.507035</td>\n",
       "    </tr>\n",
       "    <tr>\n",
       "      <th>2018-10-01</th>\n",
       "      <td>1996.3</td>\n",
       "      <td>2317.4</td>\n",
       "      <td>49.1</td>\n",
       "      <td>0.0</td>\n",
       "      <td>-301.5</td>\n",
       "      <td>-316.1</td>\n",
       "      <td>95.7</td>\n",
       "      <td>37.2</td>\n",
       "      <td>35.5</td>\n",
       "      <td>0.0</td>\n",
       "      <td>3913.7</td>\n",
       "      <td>-767.389362</td>\n",
       "    </tr>\n",
       "  </tbody>\n",
       "</table>\n",
       "</div>"
      ],
      "text/plain": [
       "            CABLE TV_diff  MAGAZINES_diff  NAT SPOT RADIO_diff  \\\n",
       "FIXED TIME                                                       \n",
       "2018-09-03          276.6         -1118.3                 -0.4   \n",
       "2018-09-10         -623.1             0.0                  0.0   \n",
       "2018-09-17           -6.6             0.0                  0.0   \n",
       "2018-09-24        -1205.3             0.0                  0.0   \n",
       "2018-10-01         1996.3          2317.4                 49.1   \n",
       "\n",
       "            NATL NEWSP_diff  NETWORK RADIO_diff  NETWORK TV_diff  \\\n",
       "FIXED TIME                                                         \n",
       "2018-09-03              0.0               142.5           1015.8   \n",
       "2018-09-10              0.0                 0.0            540.9   \n",
       "2018-09-17              0.0                 0.0           -635.8   \n",
       "2018-09-24              0.0                 0.0            233.2   \n",
       "2018-10-01              0.0              -301.5           -316.1   \n",
       "\n",
       "            NEWSPAPER_diff  OUTDOOR_diff  SPOT TV_diff  SYNDICATION_diff  \\\n",
       "FIXED TIME                                                                 \n",
       "2018-09-03          -223.8         -45.5          -1.8               0.0   \n",
       "2018-09-10             0.0           0.0         -56.7               0.0   \n",
       "2018-09-17             0.0           0.0           0.5               0.0   \n",
       "2018-09-24             0.0           0.0          -1.2               0.0   \n",
       "2018-10-01            95.7          37.2          35.5               0.0   \n",
       "\n",
       "            TOTAL_diff   value_diff  \n",
       "FIXED TIME                           \n",
       "2018-09-03        45.2  -339.302444  \n",
       "2018-09-10      -139.0 -2095.423799  \n",
       "2018-09-17      -641.9  -230.226659  \n",
       "2018-09-24      -973.3  -378.507035  \n",
       "2018-10-01      3913.7  -767.389362  "
      ]
     },
     "execution_count": 40,
     "metadata": {},
     "output_type": "execute_result"
    }
   ],
   "source": [
    "modelingdataset.tail()"
   ]
  },
  {
   "cell_type": "code",
   "execution_count": 42,
   "metadata": {},
   "outputs": [],
   "source": [
    "date = pd.to_datetime('2018-10-08')\n",
    "modelingdataset.loc[date] = np.nan"
   ]
  },
  {
   "cell_type": "code",
   "execution_count": 46,
   "metadata": {},
   "outputs": [],
   "source": [
    "date = pd.to_datetime('2018-10-15')\n",
    "modelingdataset.loc[date] = np.nan"
   ]
  },
  {
   "cell_type": "code",
   "execution_count": 47,
   "metadata": {},
   "outputs": [],
   "source": [
    "date = pd.to_datetime('2018-10-22')\n",
    "modelingdataset.loc[date] = np.nan"
   ]
  },
  {
   "cell_type": "code",
   "execution_count": 48,
   "metadata": {},
   "outputs": [],
   "source": [
    "for acolumn in list(modelingdataset):\n",
    "    if 'value' not in acolumn:\n",
    "        for alag in range(1,4):\n",
    "            columnname = '%s_lag%s' % (acolumn,alag)\n",
    "            modelingdataset[columnname] = modelingdataset[acolumn].shift(alag)"
   ]
  },
  {
   "cell_type": "code",
   "execution_count": 49,
   "metadata": {},
   "outputs": [
    {
     "data": {
      "text/html": [
       "<div>\n",
       "<style scoped>\n",
       "    .dataframe tbody tr th:only-of-type {\n",
       "        vertical-align: middle;\n",
       "    }\n",
       "\n",
       "    .dataframe tbody tr th {\n",
       "        vertical-align: top;\n",
       "    }\n",
       "\n",
       "    .dataframe thead th {\n",
       "        text-align: right;\n",
       "    }\n",
       "</style>\n",
       "<table border=\"1\" class=\"dataframe\">\n",
       "  <thead>\n",
       "    <tr style=\"text-align: right;\">\n",
       "      <th></th>\n",
       "      <th>CABLE TV_diff</th>\n",
       "      <th>CABLE TV_diff_lag1</th>\n",
       "      <th>CABLE TV_diff_lag1_lag1</th>\n",
       "      <th>CABLE TV_diff_lag1_lag2</th>\n",
       "      <th>CABLE TV_diff_lag1_lag3</th>\n",
       "      <th>CABLE TV_diff_lag2</th>\n",
       "      <th>CABLE TV_diff_lag2_lag1</th>\n",
       "      <th>CABLE TV_diff_lag2_lag2</th>\n",
       "      <th>CABLE TV_diff_lag2_lag3</th>\n",
       "      <th>CABLE TV_diff_lag3</th>\n",
       "      <th>...</th>\n",
       "      <th>TOTAL_diff_lag1</th>\n",
       "      <th>TOTAL_diff_lag1_lag1</th>\n",
       "      <th>TOTAL_diff_lag1_lag2</th>\n",
       "      <th>TOTAL_diff_lag1_lag3</th>\n",
       "      <th>TOTAL_diff_lag2</th>\n",
       "      <th>TOTAL_diff_lag2_lag1</th>\n",
       "      <th>TOTAL_diff_lag2_lag2</th>\n",
       "      <th>TOTAL_diff_lag2_lag3</th>\n",
       "      <th>TOTAL_diff_lag3</th>\n",
       "      <th>value_diff</th>\n",
       "    </tr>\n",
       "    <tr>\n",
       "      <th>FIXED TIME</th>\n",
       "      <th></th>\n",
       "      <th></th>\n",
       "      <th></th>\n",
       "      <th></th>\n",
       "      <th></th>\n",
       "      <th></th>\n",
       "      <th></th>\n",
       "      <th></th>\n",
       "      <th></th>\n",
       "      <th></th>\n",
       "      <th></th>\n",
       "      <th></th>\n",
       "      <th></th>\n",
       "      <th></th>\n",
       "      <th></th>\n",
       "      <th></th>\n",
       "      <th></th>\n",
       "      <th></th>\n",
       "      <th></th>\n",
       "      <th></th>\n",
       "      <th></th>\n",
       "    </tr>\n",
       "  </thead>\n",
       "  <tbody>\n",
       "    <tr>\n",
       "      <th>2013-10-07</th>\n",
       "      <td>NaN</td>\n",
       "      <td>NaN</td>\n",
       "      <td>NaN</td>\n",
       "      <td>NaN</td>\n",
       "      <td>NaN</td>\n",
       "      <td>NaN</td>\n",
       "      <td>NaN</td>\n",
       "      <td>NaN</td>\n",
       "      <td>NaN</td>\n",
       "      <td>NaN</td>\n",
       "      <td>...</td>\n",
       "      <td>NaN</td>\n",
       "      <td>NaN</td>\n",
       "      <td>NaN</td>\n",
       "      <td>NaN</td>\n",
       "      <td>NaN</td>\n",
       "      <td>NaN</td>\n",
       "      <td>NaN</td>\n",
       "      <td>NaN</td>\n",
       "      <td>NaN</td>\n",
       "      <td>NaN</td>\n",
       "    </tr>\n",
       "    <tr>\n",
       "      <th>2013-10-14</th>\n",
       "      <td>-94.7</td>\n",
       "      <td>NaN</td>\n",
       "      <td>NaN</td>\n",
       "      <td>NaN</td>\n",
       "      <td>NaN</td>\n",
       "      <td>NaN</td>\n",
       "      <td>NaN</td>\n",
       "      <td>NaN</td>\n",
       "      <td>NaN</td>\n",
       "      <td>NaN</td>\n",
       "      <td>...</td>\n",
       "      <td>NaN</td>\n",
       "      <td>NaN</td>\n",
       "      <td>NaN</td>\n",
       "      <td>NaN</td>\n",
       "      <td>NaN</td>\n",
       "      <td>NaN</td>\n",
       "      <td>NaN</td>\n",
       "      <td>NaN</td>\n",
       "      <td>NaN</td>\n",
       "      <td>11.929003</td>\n",
       "    </tr>\n",
       "    <tr>\n",
       "      <th>2013-10-21</th>\n",
       "      <td>990.6</td>\n",
       "      <td>-94.7</td>\n",
       "      <td>NaN</td>\n",
       "      <td>NaN</td>\n",
       "      <td>NaN</td>\n",
       "      <td>NaN</td>\n",
       "      <td>NaN</td>\n",
       "      <td>NaN</td>\n",
       "      <td>NaN</td>\n",
       "      <td>NaN</td>\n",
       "      <td>...</td>\n",
       "      <td>-357.2</td>\n",
       "      <td>NaN</td>\n",
       "      <td>NaN</td>\n",
       "      <td>NaN</td>\n",
       "      <td>NaN</td>\n",
       "      <td>NaN</td>\n",
       "      <td>NaN</td>\n",
       "      <td>NaN</td>\n",
       "      <td>NaN</td>\n",
       "      <td>155.868195</td>\n",
       "    </tr>\n",
       "    <tr>\n",
       "      <th>2013-10-28</th>\n",
       "      <td>52.7</td>\n",
       "      <td>990.6</td>\n",
       "      <td>-94.7</td>\n",
       "      <td>NaN</td>\n",
       "      <td>NaN</td>\n",
       "      <td>-94.7</td>\n",
       "      <td>NaN</td>\n",
       "      <td>NaN</td>\n",
       "      <td>NaN</td>\n",
       "      <td>NaN</td>\n",
       "      <td>...</td>\n",
       "      <td>2775.4</td>\n",
       "      <td>-357.2</td>\n",
       "      <td>NaN</td>\n",
       "      <td>NaN</td>\n",
       "      <td>-357.2</td>\n",
       "      <td>NaN</td>\n",
       "      <td>NaN</td>\n",
       "      <td>NaN</td>\n",
       "      <td>NaN</td>\n",
       "      <td>89.532880</td>\n",
       "    </tr>\n",
       "    <tr>\n",
       "      <th>2013-11-04</th>\n",
       "      <td>-881.9</td>\n",
       "      <td>52.7</td>\n",
       "      <td>990.6</td>\n",
       "      <td>-94.7</td>\n",
       "      <td>NaN</td>\n",
       "      <td>990.6</td>\n",
       "      <td>-94.7</td>\n",
       "      <td>NaN</td>\n",
       "      <td>NaN</td>\n",
       "      <td>-94.7</td>\n",
       "      <td>...</td>\n",
       "      <td>3070.1</td>\n",
       "      <td>2775.4</td>\n",
       "      <td>-357.2</td>\n",
       "      <td>NaN</td>\n",
       "      <td>2775.4</td>\n",
       "      <td>-357.2</td>\n",
       "      <td>NaN</td>\n",
       "      <td>NaN</td>\n",
       "      <td>-357.2</td>\n",
       "      <td>902.483956</td>\n",
       "    </tr>\n",
       "  </tbody>\n",
       "</table>\n",
       "<p>5 rows × 111 columns</p>\n",
       "</div>"
      ],
      "text/plain": [
       "            CABLE TV_diff  CABLE TV_diff_lag1  CABLE TV_diff_lag1_lag1  \\\n",
       "FIXED TIME                                                               \n",
       "2013-10-07            NaN                 NaN                      NaN   \n",
       "2013-10-14          -94.7                 NaN                      NaN   \n",
       "2013-10-21          990.6               -94.7                      NaN   \n",
       "2013-10-28           52.7               990.6                    -94.7   \n",
       "2013-11-04         -881.9                52.7                    990.6   \n",
       "\n",
       "            CABLE TV_diff_lag1_lag2  CABLE TV_diff_lag1_lag3  \\\n",
       "FIXED TIME                                                     \n",
       "2013-10-07                      NaN                      NaN   \n",
       "2013-10-14                      NaN                      NaN   \n",
       "2013-10-21                      NaN                      NaN   \n",
       "2013-10-28                      NaN                      NaN   \n",
       "2013-11-04                    -94.7                      NaN   \n",
       "\n",
       "            CABLE TV_diff_lag2  CABLE TV_diff_lag2_lag1  \\\n",
       "FIXED TIME                                                \n",
       "2013-10-07                 NaN                      NaN   \n",
       "2013-10-14                 NaN                      NaN   \n",
       "2013-10-21                 NaN                      NaN   \n",
       "2013-10-28               -94.7                      NaN   \n",
       "2013-11-04               990.6                    -94.7   \n",
       "\n",
       "            CABLE TV_diff_lag2_lag2  CABLE TV_diff_lag2_lag3  \\\n",
       "FIXED TIME                                                     \n",
       "2013-10-07                      NaN                      NaN   \n",
       "2013-10-14                      NaN                      NaN   \n",
       "2013-10-21                      NaN                      NaN   \n",
       "2013-10-28                      NaN                      NaN   \n",
       "2013-11-04                      NaN                      NaN   \n",
       "\n",
       "            CABLE TV_diff_lag3  ...  TOTAL_diff_lag1  TOTAL_diff_lag1_lag1  \\\n",
       "FIXED TIME                      ...                                          \n",
       "2013-10-07                 NaN  ...              NaN                   NaN   \n",
       "2013-10-14                 NaN  ...              NaN                   NaN   \n",
       "2013-10-21                 NaN  ...           -357.2                   NaN   \n",
       "2013-10-28                 NaN  ...           2775.4                -357.2   \n",
       "2013-11-04               -94.7  ...           3070.1                2775.4   \n",
       "\n",
       "            TOTAL_diff_lag1_lag2  TOTAL_diff_lag1_lag3  TOTAL_diff_lag2  \\\n",
       "FIXED TIME                                                                \n",
       "2013-10-07                   NaN                   NaN              NaN   \n",
       "2013-10-14                   NaN                   NaN              NaN   \n",
       "2013-10-21                   NaN                   NaN              NaN   \n",
       "2013-10-28                   NaN                   NaN           -357.2   \n",
       "2013-11-04                -357.2                   NaN           2775.4   \n",
       "\n",
       "            TOTAL_diff_lag2_lag1  TOTAL_diff_lag2_lag2  TOTAL_diff_lag2_lag3  \\\n",
       "FIXED TIME                                                                     \n",
       "2013-10-07                   NaN                   NaN                   NaN   \n",
       "2013-10-14                   NaN                   NaN                   NaN   \n",
       "2013-10-21                   NaN                   NaN                   NaN   \n",
       "2013-10-28                   NaN                   NaN                   NaN   \n",
       "2013-11-04                -357.2                   NaN                   NaN   \n",
       "\n",
       "            TOTAL_diff_lag3  value_diff  \n",
       "FIXED TIME                               \n",
       "2013-10-07              NaN         NaN  \n",
       "2013-10-14              NaN   11.929003  \n",
       "2013-10-21              NaN  155.868195  \n",
       "2013-10-28              NaN   89.532880  \n",
       "2013-11-04           -357.2  902.483956  \n",
       "\n",
       "[5 rows x 111 columns]"
      ]
     },
     "execution_count": 49,
     "metadata": {},
     "output_type": "execute_result"
    }
   ],
   "source": [
    "modelingdataset.sort_index(axis=1, inplace=True)\n",
    "modelingdataset.head()"
   ]
  },
  {
   "cell_type": "code",
   "execution_count": 50,
   "metadata": {},
   "outputs": [],
   "source": [
    "modelingdataset.to_csv('google_adspend_differenced_lagged_fordatarobot.csv')"
   ]
  },
  {
   "cell_type": "code",
   "execution_count": null,
   "metadata": {},
   "outputs": [],
   "source": []
  }
 ],
 "metadata": {
  "kernelspec": {
   "display_name": "Python 3",
   "language": "python",
   "name": "python3"
  },
  "language_info": {
   "codemirror_mode": {
    "name": "ipython",
    "version": 3
   },
   "file_extension": ".py",
   "mimetype": "text/x-python",
   "name": "python",
   "nbconvert_exporter": "python",
   "pygments_lexer": "ipython3",
   "version": "3.6.7"
  }
 },
 "nbformat": 4,
 "nbformat_minor": 2
}
